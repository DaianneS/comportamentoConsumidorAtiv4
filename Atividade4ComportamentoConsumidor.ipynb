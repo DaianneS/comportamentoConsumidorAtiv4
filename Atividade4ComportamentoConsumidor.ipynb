{
  "nbformat": 4,
  "nbformat_minor": 0,
  "metadata": {
    "colab": {
      "provenance": [],
      "authorship_tag": "ABX9TyMSDtaujbuNRJu56zwtiNRU",
      "include_colab_link": true
    },
    "kernelspec": {
      "name": "python3",
      "display_name": "Python 3"
    },
    "language_info": {
      "name": "python"
    }
  },
  "cells": [
    {
      "cell_type": "markdown",
      "metadata": {
        "id": "view-in-github",
        "colab_type": "text"
      },
      "source": [
        "<a href=\"https://colab.research.google.com/github/DaianneS/comportamentoConsumidorAtiv4/blob/main/Atividade4ComportamentoConsumidor.ipynb\" target=\"_parent\"><img src=\"https://colab.research.google.com/assets/colab-badge.svg\" alt=\"Open In Colab\"/></a>"
      ]
    },
    {
      "cell_type": "markdown",
      "source": [
        "# **Comportamento do consumidor no ecommerce**\n",
        "\n",
        "Foi usado um dataset do kaggle (https://www.kaggle.com/datasets/salahuddinahmedshuvo/ecommerce-consumer-behavior-analysis-data?resource=download)\n",
        "\n",
        "(Decidi também fazer uma pequena análise dos dados, com o objetivo de treinar a obtenção de insights a partir dos dados, os transformando em conhecimento)\n",
        "\n",
        "Fazendo uma análise básica em três colunas sobre o compotamento do consumidor sendo elas:\n",
        "\n",
        "\n",
        "* ### Frequência de compras por mês:\n",
        "  * Média: Quantas compras, em média, cada cliente faz por mês?\n",
        "  * Mediana: Qual é o número mais comum de compras mensais?\n",
        "  * Desvio padrão: Há clientes que compram muito mais que outros?\n",
        " * Máximo e mínimo: Qual o máximo de compras e o mínimo (esse deve ser 0)\n",
        "\n",
        "*   ### Taxa de devolução dos produtos\n",
        "  * Média: Qual a taxa média de devolução dos produtos?\n",
        "  * Mediana: Qual a taxa de devolução mais comum?\n",
        "  * Desvio padrão: Alguns clientes devolvem muito mais que outros?\n",
        "  * Máximo e mínimo: Qual foi a maior e a menor taxa de devolução?\n",
        "\n",
        "*   ### Tempo gasto pesquisando um produto antes de comprar\n",
        "  * Média: Quanto tempo, em média, os clientes gastam pesquisando antes da compra?\n",
        "  * Mediana: Qual o tempo mais comum de pesquisa antes da compra?\n",
        "  * Desvio padrão: Alguns clientes pesquisam muito mais que outros?\n",
        "  * Máximo e mínimo: Qual o maior tempo de pesquisa e qual o menor?\n",
        "\n",
        "\n",
        "\n"
      ],
      "metadata": {
        "id": "I7-j78m00bmw"
      }
    },
    {
      "cell_type": "code",
      "source": [
        "import numpy as np\n",
        "\n",
        "with open('Ecommerce_Consumer_Behavior_Analysis_Data.csv', 'r') as f:\n",
        "  data = np.genfromtxt(f, delimiter=',', skip_header=1, usecols=(10, 17, 14), dtype=float, filling_values=0)\n",
        "\n",
        "frequency_of_purchase = data[:, 0]\n",
        "return_rate = data[:, 1]\n",
        "time_spent_research = data[:, 2]\n",
        "\n",
        "def estatisticas_basicas(nome, valores):\n",
        "  print(f\"\\n{nome}:\")\n",
        "  print(f\"Foram utilizados {np.sum(valores):.0f} dados.\\n\")\n",
        "  print(f\"Média: {np.mean(valores):.2f}\")\n",
        "  print(f\"Mediana: {np.median(valores):.2f}\")\n",
        "  print(f\"Desvio Padrão: {np.std(valores):.2f}\")\n",
        "  print(f\"Máximo: {np.max(valores):.2f}\")\n",
        "  print(f\"Mínimo: {np.min(valores):.2f}\")\n",
        "\n",
        "estatisticas_basicas(\"Frequencia de Compras\", frequency_of_purchase)\n",
        "estatisticas_basicas(\"Taxa de devolução\", return_rate)\n",
        "estatisticas_basicas(\"Tempo gasto pesquisando um produto antes de comprar\", time_spent_research)"
      ],
      "metadata": {
        "colab": {
          "base_uri": "https://localhost:8080/"
        },
        "id": "0UxDk07mslrW",
        "outputId": "f7d65b1b-0e0b-42d8-9c30-d576429175da"
      },
      "execution_count": 41,
      "outputs": [
        {
          "output_type": "stream",
          "name": "stdout",
          "text": [
            "\n",
            "Frequencia de Compras:\n",
            "Foram utilizados 6938 dados.\n",
            "\n",
            "Média: 6.94\n",
            "Mediana: 7.00\n",
            "Desvio Padrão: 3.15\n",
            "Máximo: 12.00\n",
            "Mínimo: 0.00\n",
            "\n",
            "Taxa de devolução:\n",
            "Foram utilizados 954 dados.\n",
            "\n",
            "Média: 0.95\n",
            "Mediana: 1.00\n",
            "Desvio Padrão: 0.81\n",
            "Máximo: 2.00\n",
            "Mínimo: 0.00\n",
            "\n",
            "Tempo gasto pesquisando um produto antes de comprar:\n",
            "Foram utilizados 1015 dados.\n",
            "\n",
            "Média: 1.02\n",
            "Mediana: 1.00\n",
            "Desvio Padrão: 0.80\n",
            "Máximo: 4.00\n",
            "Mínimo: 0.00\n"
          ]
        }
      ]
    },
    {
      "cell_type": "markdown",
      "source": [
        "## Conclusões\n",
        "\n",
        "\n",
        "\n",
        "1.  ### **Frequência de compras:**\n",
        "  *   **Média:** Um consumidor realiza em média 6,94 compras em um mês.\n",
        "  *   **Mediana:** A mediana de 7 compras por mês significa que a maioria dos consumidores faz 7 compras ou menos por mês.\n",
        "  *  **Desvio Padrão:** Com um desvio padrão de 3,15, existe uma variação considerável entre os consumidores. Alguns clientes podem estar fazendo compras mensais em grande volume.\n",
        "  * Foram realizadas no máximo 12 compras em um mês.\n",
        "\n",
        "  Embora haja uma média de compras de 7x ao mês, o que por sinal, é muito bom, o desvio padrão alto e a presença de clientes que entram e não compram nada, pode indicar a necessidade de campanhas de reengajamento ou uma plataforma mais chamativa.\n",
        "\n",
        "\n",
        "2.  ### **Taxa de Devolução:**\n",
        "  *   **Média:** A taxa média de devolução de 0,95 sugere que, em média, os consumidores devolvem cerca de 1 produto a cada compra.\n",
        "  *   **Mediana:** A mediana de 1 indica que, para a maioria dos consumidores, a devolução de produtos é uma prática comum (muitos devolvem pelo menos 1 produto)\n",
        "  *  **Desvio Padrão:** O desvio padrão de 0,81 sugere uma variação considerável entre os consumidores. Enquanto alguns podem devolver muitos produtos, outros não devolvem nada.\n",
        "  * Foram realizadas no máximo 2 devoluções por um consumidor no mês.\n",
        "\n",
        "  A taxa de devolução é baixa, o que é um bom sinal.\n",
        "\n",
        "2. ###  **Tempo Gasto Pesquisando um Produto Antes de Comprar:**\n",
        "  *   **Média:** O tempo médio de 1,02 horas de pesquisa antes da compra.\n",
        "  *   **Mediana:**  A mediana de 1,00 hora indica que o tempo de pesquisa mais comum antes de realizar a compra é cerca de uma hora, o que é consistente com a média.\n",
        "  *  **Desvio Padrão:** O desvio padrão de 0,80 sugere que, embora muitos consumidores gastem cerca de uma hora pesquisando, há variação considerável.\n",
        "  * O tempo máximo foi de 4 horas.\n",
        "\n",
        "  Os consumidores geralmente gastam cerca de uma hora pesquisando produtos antes de comprar. Porém, a variação no tempo de pesquisa indica que enquanto alguns são compradores informados, outros podem ser mais impulsivos ou não necessitar de tanta informação para tomar decisões de compra."
      ],
      "metadata": {
        "id": "aXXgRp1R4OWa"
      }
    }
  ]
}